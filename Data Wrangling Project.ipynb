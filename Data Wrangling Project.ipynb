{
 "cells": [
  {
   "cell_type": "markdown",
   "metadata": {},
   "source": [
    "# Open Street Map Study: Durban\n",
    "\n",
    "## Map Area\n",
    "\n",
    "I chose to investigate the greater Durban (South Africa) area, as that is where I grew up and I was interested to see what, if anything, was in the Open Street Map library.\n",
    "\n",
    "https://www.openstreetmap.org/node/27564996\n",
    "\n",
    "https://en.wikipedia.org/wiki/Durban\n"
   ]
  },
  {
   "cell_type": "markdown",
   "metadata": {},
   "source": [
    "# Main Problems\n",
    "\n",
    "The main problem that I identified was a lack of data! Durban is the third largest city in South Africa. Given that South Africa is not a western country, I anticipated that there may not be as much awareness around the Open Street Map project. From my sample map and in terms of cleaning, I sought out the correct four issues:\n",
    "\n",
    "- #### Errors in Street Names\n",
    "\n",
    "As in the preamble to this project, there were various abbreviations or misspellings of street names. For example 'Rd' instead of 'Road' or 'Cresent' instead of 'Crescent'\n",
    "- #### Multiple Sport Categories\n",
    "\n",
    "I found that several of the sports amenities had similar sport definitions and decided to homogenise this. For example there were tags with values 'canoe' and canoeing'\n",
    "- #### Missing Postcodes\n",
    "\n",
    "There were not many postcodes in the data set. This is partially because postcodes are not as important in South Africa as they are in typical western countries like the UK or US. Postcodes are allocated to an \"area\" (which in itself is defined vaguely but is typically a suburb in a city) however the name of the area is more important in the postal system than the postcode number. Postcodes may (but not definitely) refer to the type of address - for example a physical address or post box. Most South Africans get post delivered to a rented PO Box, post office or some other designated drop off point. To make matters worse, there is no outlined map of these postal \"areas\" but is determined by local knowledge! To try flesh out the missing data, I decided to add postcodes to node tags that had a designated suburb (further details below)\n",
    "\n",
    "- #### Oneway way tags with value other than 'Yes' or 'No'\n",
    "Some way tags had a oneway designation of '-1' so reclassified these as 'unclassified'"
   ]
  },
  {
   "cell_type": "markdown",
   "metadata": {},
   "source": [
    "### Errors in Street Names\n",
    "\n",
    "Because there was not too much data, I decided to check the street names against a pre-defined list and then use a dictionary to map incorrect values to correct ones. I also decided to run the function before the tag was added to the tag dictionery so this function works for one tag. I used a try and except to catch any street names that were not cleaned and printed a warning statement. The function is found in the clean_functions file."
   ]
  },
  {
   "cell_type": "code",
   "execution_count": 2,
   "metadata": {
    "collapsed": true
   },
   "outputs": [],
   "source": [
    "expected_names = [\"Street\", \"Avenue\", \"Drive\", \"Court\", \"Place\", \"Lane\", \"Road\", \"Parkway\", 'Parade', 'Way','Terrace',\n",
    "'Crescent', 'Grove','Centre','Close', 'Hill','walworth','Salmon','Damba','Marlyn','Garrick','Shad','Mews']\n",
    "\n",
    "mapping= {'Rd':'Road','Cresent':'Crescent'}\n",
    "\n",
    "def clean_street_names(tag, expected_names, mapping):\n",
    "    \"\"\"function that takes a dictionary of tags and cleans street names according to the mapping supplied.\n",
    "    Returns corrected tag_dict.\n",
    "    tag - dict of tags - must be labelled with key and value\n",
    "    expected_names - list of names that are accepted\n",
    "    mapping - dict of erroneous names and corrections\"\"\"\n",
    "    if tag['key'] == 'street':\n",
    "        street_type = (str(tag['value']).split(' '))[-1]\n",
    "        if street_type not in expected_names:\n",
    "            try:\n",
    "                new_name = tag['value'].replace(street_type,mapping[street_type])\n",
    "                tag['value'] = new_name\n",
    "            except(KeyError):\n",
    "                print(street_type + ' NOT CLEANED')\n",
    "    return tag"
   ]
  },
  {
   "cell_type": "markdown",
   "metadata": {},
   "source": [
    "In the end, it was more a matter of adding values that I had not expected (for example 'Garrick') to the expected_names than changing values. This is because some streets in central Durban are called by the associated area ('Garrick') rather than 'Street' or 'Road'"
   ]
  },
  {
   "cell_type": "markdown",
   "metadata": {},
   "source": [
    "### Multiple Sports Categories\n",
    "\n",
    "I used a similar strategy as above - prefering to check is values complied with an expected set of values and then using a dictionery to map incorrect values to correct ones. This function is also stored in the helper_function file"
   ]
  },
  {
   "cell_type": "code",
   "execution_count": 3,
   "metadata": {
    "collapsed": true
   },
   "outputs": [],
   "source": [
    "mapping_sports = {'field_hockey':'hockey','skateboard':'skating','rugby_league':'rugby','rugby_union':'rugby',\n",
    "'long_jumpMoses Mabhida Stadium':'long_jump','canoe':'canoeing','multi':'multiple','Salmon':'fishing','Shad':'fishing',\n",
    "'squash;indor_pool':'multi','rc_car':'driving'}\n",
    "\n",
    "expected_sports = ['baseball','basketball','bowls', 'canoeing','cricket', 'cycling', 'golf', 'Gym', 'hockey', 'horse_racing',\n",
    "'long_jump', 'netball', 'rugby', 'running','skating', 'soccer', 'surfing', 'swimming', 'tennis','volleyball','weightlifting',\n",
    "'fishing']"
   ]
  },
  {
   "cell_type": "markdown",
   "metadata": {},
   "source": [
    "This worked relatively smoothly given I had ironed out the creases of the function when developing it for the street names. The biggest issue I had with the overall process was working with encoded types - this meant I constently had to be cleaning my variables from an encoded type to int or float."
   ]
  },
  {
   "cell_type": "markdown",
   "metadata": {},
   "source": [
    "### Missing Postcodes\n",
    "\n",
    "As I detailed above, there was not many postcodes in the dataset. I decided to flesh this out by adding postcodes to node tags that had a suburb. This did mean trusting that the suburbs were correct so I only used added postcodes to suburbs I was sure were within the greater Durban area.\n",
    "\n",
    "The first step was to build a dictionery  of trusted suburb/postcode key value pairs. I copied the html from the south african postal web service for looking up postcodes (so that I could add the file for my submission) and used Beautiful Soup to parse over the data and create a suburb-postcode dictionery - in the mapping file. After my first run of this, I realised I would need to add the postcodes for some of the surrounding areas, such as Westville. Durban has suffered extensive \"city creep\" over the last 20 years and so some areas that were once (when postcodes were allocated) considered seperate villages, are now part of the greater Durban area. I also know that all postcodes should start with a 40 or 36 so this helped me visually verify that the dictionery I created was not full of incorrect information.\n",
    "\n",
    "When I ran this to catch suburbs that were not on the list, I realised that some of the suburbs were indeed incorrect! Some belonged in Johannesburg and some neither me nor Google had heard of. Whilst it would have been ideal to clean these incorrect ones out, this seemed like a manual job as one would need a verified list of all areas in Durban, which to my knowledge does not exist online. For the purposes of adding in postcodes, I was satisfied that because I had pulled postcodes from the post office site that specified the city to be \"Durban\", I was at least not adding postcodes to only validified areas.\n",
    "\n",
    "I ran a query on the database before I cleaned it which showed there were 51 postcode tags in the nodes_tag table"
   ]
  },
  {
   "cell_type": "code",
   "execution_count": null,
   "metadata": {
    "collapsed": true
   },
   "outputs": [],
   "source": [
    "SQL_postcode_tag=\"\"\"\n",
    "SELECT count(*) FROM nodes_tags\n",
    "WHERE key = 'postcode';\n",
    "\"\"\""
   ]
  },
  {
   "cell_type": "markdown",
   "metadata": {},
   "source": [
    "After adding the extra postcodes there were 141 postcode tages in the nodes_tags table"
   ]
  },
  {
   "cell_type": "markdown",
   "metadata": {},
   "source": [
    "### Oneway tags\n",
    "\n",
    "Several of the one way tags had the value '-1' so I changed these to 'unclassified.' THis function can be found in the clean functions file."
   ]
  },
  {
   "cell_type": "code",
   "execution_count": null,
   "metadata": {
    "collapsed": true
   },
   "outputs": [],
   "source": [
    "def clean_oneway(tag):\n",
    "    expected_names = ['yes','no']\n",
    "    if tag['key'] == 'oneway':\n",
    "        oneway_type = str(tag['value'])\n",
    "        if oneway_type not in expected_names:\n",
    "            tag['value'] = 'unclassified'\n",
    "    return tag"
   ]
  },
  {
   "cell_type": "markdown",
   "metadata": {},
   "source": [
    "# Data Overview\n",
    "\n",
    "This contains the basic queries requested for the project"
   ]
  },
  {
   "cell_type": "markdown",
   "metadata": {},
   "source": [
    "### File Size"
   ]
  },
  {
   "cell_type": "code",
   "execution_count": 25,
   "metadata": {},
   "outputs": [
    {
     "name": "stdout",
     "output_type": "stream",
     "text": [
      "map.osm size = 54MB\n",
      "nodes.csv size = 27MB\n",
      "nodes_tags.osm size = 0MB\n",
      "ways.osm size = 2MB\n",
      "ways_tags.osm size = 3MB\n"
     ]
    }
   ],
   "source": [
    "import os\n",
    "import sqlite3\n",
    "import pandas as pd\n",
    "print('map.osm size = ' +str(int(os.stat('map').st_size/1024/1024)) + 'MB')\n",
    "print('nodes.csv size = ' +str(int(os.stat('nodes.csv').st_size/1024/1024)) + 'MB')\n",
    "print('nodes_tags.osm size = ' +str(int(os.stat('nodes_tags.csv').st_size/1024/1024)) + 'MB')\n",
    "print('ways.osm size = ' +str(int(os.stat('ways.csv').st_size/1024/1024)) + 'MB')\n",
    "print('ways_tags.osm size = ' +str(int(os.stat('ways_tags.csv').st_size/1024/1024)) + 'MB')"
   ]
  },
  {
   "cell_type": "markdown",
   "metadata": {},
   "source": [
    "### Number of Unique Users"
   ]
  },
  {
   "cell_type": "code",
   "execution_count": 29,
   "metadata": {},
   "outputs": [
    {
     "name": "stdout",
     "output_type": "stream",
     "text": [
      "                             0      1\n",
      "0                     NicRoets    420\n",
      "1                        Latze   8880\n",
      "2                    Firefishy  60834\n",
      "3    Coastline Southern Africa     41\n",
      "4                     woodpeck      3\n",
      "5                    user_5359    115\n",
      "6                 Adrian Frith  23945\n",
      "7                    Ignobilis  13311\n",
      "8                    Rob Hooft      4\n",
      "9                         ulfl      4\n",
      "10            milovanderlinden     12\n",
      "11               thebigfatgeek      1\n",
      "12              Russell Cloran   1111\n",
      "13          Hartmut Holzgraefe      6\n",
      "14                      sissou     63\n",
      "15                      zorque     16\n",
      "16                     Peter14      3\n",
      "17                   vanagaudi    425\n",
      "18                   katpatuka     56\n",
      "19             Hobby Navigator      2\n",
      "20                        Loth     38\n",
      "21                   titanbeos    112\n",
      "22                        AE35      1\n",
      "23                        Head      3\n",
      "24                        csdf     20\n",
      "25                       Michi      9\n",
      "26                     wieland      1\n",
      "27                     Andre68      2\n",
      "28                    Tinshack      8\n",
      "29                     zenfunk     46\n",
      "..                         ...    ...\n",
      "274                    Ruben S      2\n",
      "275             Jordan Lessing     25\n",
      "276            Tyreese Cassidy      6\n",
      "277                 taliaemily      9\n",
      "278              Shardyn Rocha      6\n",
      "279             Toriso Rajoale     18\n",
      "280                 Kyla Quinn      5\n",
      "281                     Nelisa      6\n",
      "282           \"Bianca O'Neill\"      1\n",
      "283                  sarahhead      1\n",
      "284                    Farkad5     28\n",
      "285                    ajay786      3\n",
      "286                MarttiVaali    212\n",
      "287                      oslim     96\n",
      "288                   cakesale     12\n",
      "289                 Parmiggano     14\n",
      "290                   yuvi3000   4277\n",
      "291                 Goldust321   8487\n",
      "292                    geniebs     93\n",
      "293             Ziegfried John     12\n",
      "294                 marc__marc      1\n",
      "295                   Zebranky      7\n",
      "296                     VikRik      2\n",
      "297             Akshay Hansraj      4\n",
      "298                  Scorpio20     82\n",
      "299                Nora Claeys      1\n",
      "300                     Musa K      2\n",
      "301                  mosankomo      1\n",
      "302                     ZAJono   1236\n",
      "303                CalvinJames     19\n",
      "\n",
      "[304 rows x 2 columns]\n"
     ]
    }
   ],
   "source": [
    "SQL_unique_users = \"\"\"\n",
    "SELECT a.user, count(a.uid) from \n",
    "(SELECT uid, user from nodes UNION ALL SELECT uid, user from ways) a\n",
    "GROUP BY a.uid;\n",
    "\"\"\"\n",
    "db = sqlite3.connect(\"C:/Users/butte/Documents/Udacity/P3/Project/DB.db\")\n",
    "c = db.cursor()\n",
    "c.execute(SQL_unique_users)\n",
    "rows = c.fetchall()\n",
    "df = pd.DataFrame(rows)\n",
    "print(df)\n",
    "db.close()"
   ]
  },
  {
   "cell_type": "markdown",
   "metadata": {},
   "source": [
    "This shows that not only are there 304 unique contributers to the Durban Open Street Map but also gives you an idea for who they are."
   ]
  },
  {
   "cell_type": "markdown",
   "metadata": {},
   "source": [
    "### Number of Nodes and Ways"
   ]
  },
  {
   "cell_type": "code",
   "execution_count": 31,
   "metadata": {},
   "outputs": [
    {
     "name": "stdout",
     "output_type": "stream",
     "text": [
      "       0\n",
      "0  18561\n",
      "       0\n",
      "0  27751\n"
     ]
    }
   ],
   "source": [
    "SQL_number_nodes = \"\"\"\n",
    "SELECT count(*) from nodes_tags;\n",
    "\"\"\"\n",
    "SQL_number_ways = \"\"\"\n",
    "SELECT count(id) from ways;\n",
    "\"\"\"\n",
    "db = sqlite3.connect(\"C:/Users/butte/Documents/Udacity/P3/Project/DB.db\")\n",
    "c = db.cursor()\n",
    "c.execute(SQL_number_nodes)\n",
    "rows = c.fetchall()\n",
    "df = pd.DataFrame(rows)\n",
    "print(df)\n",
    "c.execute(SQL_number_ways)\n",
    "rows = c.fetchall()\n",
    "df = pd.DataFrame(rows)\n",
    "print(df)\n",
    "db.close()"
   ]
  },
  {
   "cell_type": "markdown",
   "metadata": {},
   "source": [
    "This shows there are 18,561 nodes in the dataset and 27,751 ways"
   ]
  },
  {
   "cell_type": "markdown",
   "metadata": {},
   "source": [
    "### Number of Node Types"
   ]
  },
  {
   "cell_type": "code",
   "execution_count": 32,
   "metadata": {},
   "outputs": [
    {
     "name": "stdout",
     "output_type": "stream",
     "text": [
      "                  0     1\n",
      "0            source  8591\n",
      "1        created_by  3358\n",
      "2              name  1184\n",
      "3             power  1178\n",
      "4           highway   708\n",
      "5           amenity   505\n",
      "6              shop   386\n",
      "7           railway   184\n",
      "8             light   174\n",
      "9             place   166\n",
      "10         sagns_id   146\n",
      "11            is_in   145\n",
      "12         postcode   141\n",
      "13           street   107\n",
      "14           noexit    96\n",
      "15      housenumber    93\n",
      "16              ref    73\n",
      "17             type    71\n",
      "18         crossing    68\n",
      "19          cuisine    63\n",
      "20          barrier    60\n",
      "21            layer    60\n",
      "22             city    53\n",
      "23          tourism    53\n",
      "24     buoy_lateral    52\n",
      "25   beacon_lateral    44\n",
      "26          leisure    42\n",
      "27        direction    39\n",
      "28          website    33\n",
      "29               en    32\n",
      "..              ...   ...\n",
      "117     flood_prone     1\n",
      "118      government     1\n",
      "119              hi     1\n",
      "120            iata     1\n",
      "121            icao     1\n",
      "122              kn     1\n",
      "123          levels     1\n",
      "124             lit     1\n",
      "125        litecoin     1\n",
      "126        loc_name     1\n",
      "127            male     1\n",
      "128              mr     1\n",
      "129        old_iata     1\n",
      "130        old_icao     1\n",
      "131       personnel     1\n",
      "132      population     1\n",
      "133              ru     1\n",
      "134           sacaa     1\n",
      "135   service_times     1\n",
      "136          shower     1\n",
      "137              sr     1\n",
      "138           stars     1\n",
      "139      start_date     1\n",
      "140      substation     1\n",
      "141      supervised     1\n",
      "142              te     1\n",
      "143         topmark     1\n",
      "144            town     1\n",
      "145         twitter     1\n",
      "146              zu     1\n",
      "\n",
      "[147 rows x 2 columns]\n"
     ]
    }
   ],
   "source": [
    "SQL_unique_node_types = \"\"\"\n",
    "SELECT key, count(key) from nodes_tags\n",
    "GROUP BY key\n",
    "ORDER BY count(key) DESC;\n",
    "\"\"\"\n",
    "db = sqlite3.connect(\"C:/Users/butte/Documents/Udacity/P3/Project/DB.db\")\n",
    "c = db.cursor()\n",
    "c.execute(SQL_unique_node_types)\n",
    "rows = c.fetchall()\n",
    "df = pd.DataFrame(rows)\n",
    "print(df)\n",
    "db.close()"
   ]
  },
  {
   "cell_type": "markdown",
   "metadata": {},
   "source": [
    "# Additional Queries\n",
    "\n",
    "Here, I look into a few queries of my own"
   ]
  },
  {
   "cell_type": "markdown",
   "metadata": {},
   "source": [
    "### Number of Repeat Contributers\n",
    "\n",
    "I am interested how many of the 304 unique contributers, are \"repeat customers\"? For the sake of this analysis i have defined a repeat contributer as someone who has contributed more than 10 nodes or tags"
   ]
  },
  {
   "cell_type": "code",
   "execution_count": 33,
   "metadata": {},
   "outputs": [
    {
     "name": "stdout",
     "output_type": "stream",
     "text": [
      "           0                          1      2\n",
      "0       1186                   NicRoets    420\n",
      "1       2318                      Latze   8880\n",
      "2       3560                  Firefishy  60834\n",
      "3       4430  Coastline Southern Africa     41\n",
      "4       5359                  user_5359    115\n",
      "5       5616               Adrian Frith  23945\n",
      "6       6180                  Ignobilis  13311\n",
      "7       7702           milovanderlinden     12\n",
      "8      11991             Russell Cloran   1111\n",
      "9      13303                     sissou     63\n",
      "10     13445                     zorque     16\n",
      "11     15628                  vanagaudi    425\n",
      "12     17497                  katpatuka     56\n",
      "13     20938                       Loth     38\n",
      "14     21258                  titanbeos    112\n",
      "15     28794                       csdf     20\n",
      "16     33589                    zenfunk     46\n",
      "17     37024                  Ryan Peel  98039\n",
      "18     42123                     Ropino   2805\n",
      "19     42429                      42429   1205\n",
      "20     44659               Phil Shipley    121\n",
      "21     49317                     Gary68     13\n",
      "22     51045                    Geogast     49\n",
      "23     55938                     Kleper     24\n",
      "24     68661            PeetTheEngineer    989\n",
      "25     72235                Basstoelpel     22\n",
      "26     78656      Walter Schl\\xc3\\xb6gl     14\n",
      "27     89943                  Bengatzer    638\n",
      "28     94578                    andygol    156\n",
      "29     96794                     mycrow     12\n",
      "..       ...                        ...    ...\n",
      "126  6559522                      Yanke     29\n",
      "127  6559523                 Emma Beket     45\n",
      "128  6559526               Kelsi Naidoo     55\n",
      "129  6559534             JordynAshYoung     16\n",
      "130  6559535         Alyssa Christopher     15\n",
      "131  6559536             Dheeya Nirghin     37\n",
      "132  6559537             Khwezi Mbongwe     16\n",
      "133  6559546                   Thashmil     16\n",
      "134  6559562                  Sinqobile     32\n",
      "135  6565901                    TDF Fan     11\n",
      "136  6571196                   Far-away     94\n",
      "137  6571204               Amy du Plooy     73\n",
      "138  6571205                 Varini0206     50\n",
      "139  6571207                   carliyah     20\n",
      "140  6571209                   PhumezaB     47\n",
      "141  6571218                     nishjo     94\n",
      "142  6576479             Jordan Lessing     25\n",
      "143  6576516             Toriso Rajoale     18\n",
      "144  6782481                    Farkad5     28\n",
      "145  6950277                MarttiVaali    212\n",
      "146  7079916                      oslim     96\n",
      "147  7112980                   cakesale     12\n",
      "148  7114347                 Parmiggano     14\n",
      "149  7121838                   yuvi3000   4277\n",
      "150  7153495                 Goldust321   8487\n",
      "151  7154205                    geniebs     93\n",
      "152  7169756             Ziegfried John     12\n",
      "153  7572732                  Scorpio20     82\n",
      "154  7698261                     ZAJono   1236\n",
      "155  7749087                CalvinJames     19\n",
      "\n",
      "[156 rows x 3 columns]\n"
     ]
    }
   ],
   "source": [
    "SQL_repeat_contributers = \"\"\"\n",
    "SELECT a.uid, a.user, count(*) as num from\n",
    "(SELECT user, uid FROM nodes UNION ALL SELECT user, uid FROM ways) a\n",
    "GROUP BY a.uid\n",
    "HAVING num > 10\n",
    "\"\"\"\n",
    "\n",
    "db = sqlite3.connect(\"C:/Users/butte/Documents/Udacity/P3/Project/DB.db\")\n",
    "c = db.cursor()\n",
    "c.execute(SQL_repeat_contributers)\n",
    "rows = c.fetchall()\n",
    "df = pd.DataFrame(rows)\n",
    "print(df)\n",
    "db.close()"
   ]
  },
  {
   "cell_type": "markdown",
   "metadata": {},
   "source": [
    "There are 156 \"repeat contributer\" - which is more than half of the 304 unique users, so this shows a small but dedicated force of people improving Open Street Maps for Durban"
   ]
  },
  {
   "cell_type": "markdown",
   "metadata": {},
   "source": [
    "### Top 3 Sports\n",
    "\n",
    "Given that I tidied the sports data I am interested as to the most popular sport in Durban"
   ]
  },
  {
   "cell_type": "code",
   "execution_count": 35,
   "metadata": {},
   "outputs": [
    {
     "name": "stdout",
     "output_type": "stream",
     "text": [
      "          0   1\n",
      "0    tennis  77\n",
      "1    soccer  21\n",
      "2  swimming  18\n"
     ]
    }
   ],
   "source": [
    "SQL_top3_sport = \"\"\"\n",
    "SELECT a.value, count(a.value) from\n",
    "(SELECT value, key FROM nodes_tags UNION ALL SELECT value, key FROM ways_tags) a\n",
    "WHERE a.key = 'sport'\n",
    "GROUP BY a.value\n",
    "ORDER BY count(a.value) DESC\n",
    "LIMIT 3;\n",
    "\"\"\"\n",
    "\n",
    "db = sqlite3.connect(\"C:/Users/butte/Documents/Udacity/P3/Project/DB.db\")\n",
    "c = db.cursor()\n",
    "c.execute(SQL_top3_sport)\n",
    "rows = c.fetchall()\n",
    "df = pd.DataFrame(rows)\n",
    "print(df)\n",
    "db.close()"
   ]
  },
  {
   "cell_type": "markdown",
   "metadata": {},
   "source": [
    "Tennis is not what I would have guessed but when I think about it, there are quite a few tennis courts around. Tennis courts also serve less people than a soccer pitch, so that could contribute."
   ]
  },
  {
   "cell_type": "markdown",
   "metadata": {},
   "source": [
    "### Popular Shops\n",
    "\n",
    "What are the most popular shop types in Durban?"
   ]
  },
  {
   "cell_type": "code",
   "execution_count": 37,
   "metadata": {},
   "outputs": [
    {
     "name": "stdout",
     "output_type": "stream",
     "text": [
      "              0    1\n",
      "0       clothes  101\n",
      "1   supermarket   84\n",
      "2          mall   31\n",
      "3   convenience   17\n",
      "4       jewelry   16\n",
      "5  doityourself   14\n",
      "6   hairdresser   14\n",
      "7         shoes   11\n",
      "8           car   10\n",
      "9       alcohol    7\n"
     ]
    }
   ],
   "source": [
    "SQL_popular_shop = \"\"\"\n",
    "SELECT a.value, count(a.value) from\n",
    "(SELECT * FROM nodes_tags UNION ALL SELECT * FROM ways_tags) a\n",
    "WHERE a.key = 'shop'\n",
    "GROUP BY a.value\n",
    "ORDER by count(a.value) DESC\n",
    "LIMIT 10\n",
    "\"\"\"\n",
    "db = sqlite3.connect(\"C:/Users/butte/Documents/Udacity/P3/Project/DB.db\")\n",
    "c = db.cursor()\n",
    "c.execute(SQL_popular_shop)\n",
    "rows = c.fetchall()\n",
    "df = pd.DataFrame(rows)\n",
    "print(df)\n",
    "db.close()"
   ]
  },
  {
   "cell_type": "markdown",
   "metadata": {},
   "source": [
    "That result is not surprising! The most popular shop is clothing shops and then supermarkets. This makes sense as all people need clothes and food."
   ]
  },
  {
   "cell_type": "markdown",
   "metadata": {},
   "source": [
    "### Popular Cuisines\n",
    "\n",
    "What are the most popular cuisines in Durban?"
   ]
  },
  {
   "cell_type": "code",
   "execution_count": 38,
   "metadata": {},
   "outputs": [
    {
     "name": "stdout",
     "output_type": "stream",
     "text": [
      "                0   1\n",
      "0         chicken  15\n",
      "1          burger  12\n",
      "2           pizza  12\n",
      "3         italian   5\n",
      "4          indian   4\n",
      "5            fish   2\n",
      "6  fish_and_chips   2\n",
      "7        regional   2\n",
      "8         seafood   2\n"
     ]
    }
   ],
   "source": [
    "SQL_popular_cuisines = \"\"\"\n",
    "SELECT a.value, count(a.value) as num from\n",
    "(SELECT * FROM nodes_tags UNION ALL SELECT * FROM ways_tags) a\n",
    "WHERE a.key = 'cuisine'\n",
    "GROUP BY a.value\n",
    "HAVING num > 1\n",
    "ORDER by count(a.value) DESC;\n",
    "\"\"\"\n",
    "db = sqlite3.connect(\"C:/Users/butte/Documents/Udacity/P3/Project/DB.db\")\n",
    "c = db.cursor()\n",
    "c.execute(SQL_popular_cuisines)\n",
    "rows = c.fetchall()\n",
    "df = pd.DataFrame(rows)\n",
    "print(df)\n",
    "db.close()"
   ]
  },
  {
   "cell_type": "markdown",
   "metadata": {},
   "source": [
    "Again - I am not surprise chicken is the most popular although there does not seem to be many reference points"
   ]
  },
  {
   "cell_type": "markdown",
   "metadata": {},
   "source": [
    "### Rail Types\n",
    "\n",
    "Lastly, when I was looking at the Ways Tags table, I noticed that a fair amount of the ways were classified as rail. Given that rail is not a popular form of transport in Durban I was keen to see what types rail tags these are"
   ]
  },
  {
   "cell_type": "code",
   "execution_count": 39,
   "metadata": {},
   "outputs": [
    {
     "name": "stdout",
     "output_type": "stream",
     "text": [
      "            0     1\n",
      "0        rail  2106\n",
      "1    platform    92\n",
      "2   abandoned    10\n",
      "3     disused     8\n",
      "4   preserved     7\n",
      "5  light_rail     1\n",
      "6   turntable     1\n"
     ]
    }
   ],
   "source": [
    "SQL_rail_types = \"\"\"\n",
    "SELECT value, count(value) FROM ways_tags\n",
    "WHERE key = 'railway'\n",
    "GROUP BY value\n",
    "ORDER BY count(value) DESC;\n",
    "\"\"\"\n",
    "db = sqlite3.connect(\"C:/Users/butte/Documents/Udacity/P3/Project/DB.db\")\n",
    "c = db.cursor()\n",
    "c.execute(SQL_rail_types)\n",
    "rows = c.fetchall()\n",
    "df = pd.DataFrame(rows)\n",
    "print(df)\n",
    "db.close()"
   ]
  },
  {
   "cell_type": "markdown",
   "metadata": {},
   "source": [
    "This shows that most are just rails but some are disused and some are platforms. This proves that you can still learn things about your hometown!"
   ]
  },
  {
   "cell_type": "markdown",
   "metadata": {},
   "source": [
    "# Additional Ideas and Improvements\n",
    "\n",
    "I would say the single biggest improvement would be to add more data! The sample project for Charlottesville had almost 1.5 million nodes in comparison to Durban's 19k. More data would allow more robust analysis which could even be used in town planning if it were good enough.\n",
    "\n",
    "- only 107 out of 18.5k nodes tags had a street address\n",
    "- only 79 out of 78k ways tags had a street address\n",
    "\n",
    "One of the biggest issues with adding street name data (or any data) is the constantly evolving nature of Durban. The city is still new and growing and so unlike many Western cities, things change quickly. For example, in the last 15 years, a majority of the major roads in Durban changed names to get rid of old colonial and apartheid glorification. The informal sector plays a big role in the economy of South Africa as a whole and so the layout of the city can change in a relatively short time span.\n",
    "\n",
    "Another issue is accessibility - internet access is not a given in South Africa as it is in some countries and can be costly. So for the people who know Durban the best, this can hinder their desire to use precious money for an open source project."
   ]
  },
  {
   "cell_type": "markdown",
   "metadata": {},
   "source": [
    "# References\n",
    "\n",
    "https://en.wikipedia.org/wiki/Durban\n",
    "\n",
    "\n",
    "http://www.sapostalcodes.info/queryPostalCode.php?input_city=durban\n",
    "\n",
    "http://stackoverflow.com"
   ]
  }
 ],
 "metadata": {
  "kernelspec": {
   "display_name": "Python [conda env:Anaconda3]",
   "language": "python",
   "name": "conda-env-Anaconda3-py"
  },
  "language_info": {
   "codemirror_mode": {
    "name": "ipython",
    "version": 3
   },
   "file_extension": ".py",
   "mimetype": "text/x-python",
   "name": "python",
   "nbconvert_exporter": "python",
   "pygments_lexer": "ipython3",
   "version": "3.6.2"
  }
 },
 "nbformat": 4,
 "nbformat_minor": 2
}
